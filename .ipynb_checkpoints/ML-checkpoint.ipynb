{
 "cells": [
  {
   "cell_type": "code",
   "execution_count": null,
   "id": "0b57cb76-897e-4e1d-8d5a-ffb9e8843e4e",
   "metadata": {},
   "outputs": [],
   "source": [
    "import os\n",
    "import pandas as pd\n",
    "import numpy as np\n",
    "import matplotlib.pyplot as plt\n",
    "import seaborn as sns\n",
    "from sklearn.model_selection import train_test_split\n",
    "from sklearn.preprocessing import StandardScaler\n",
    "from sklearn.metrics import accuracy_score, roc_auc_score, classification_report, confusion_matrix, precision_recall_curve, f1_score, roc_curve\n",
    "from binary_lund_tree import BinaryLundTree  # Importando o modelo correto"
   ]
  },
  {
   "cell_type": "code",
   "execution_count": null,
   "id": "663d7a83-ca6c-412a-9a72-4c4d75fb483b",
   "metadata": {},
   "outputs": [],
   "source": [
    "# Definir caminhos das pastas\n",
    "desired_events_folder = \"Z2JetsToNuNu\"  # Pasta com datasets de eventos desejados\n",
    "undesired_events_folder = \"Z2JetsToNuNu_Negative\"  # Pasta com datasets de eventos indesejados"
   ]
  },
  {
   "cell_type": "code",
   "execution_count": null,
   "id": "a72c58ee-0ea0-48cb-930e-b681295587a3",
   "metadata": {},
   "outputs": [],
   "source": [
    "# Função para carregar múltiplos arquivos CSV de uma pasta e adicionar rótulo\n",
    "def load_csv_files(folder_path, label):\n",
    "    all_files = [f for f in os.listdir(folder_path) if f.endswith(\".csv\")]\n",
    "    df_list = [pd.read_csv(os.path.join(folder_path, f)) for f in all_files]\n",
    "    for df in df_list:\n",
    "        df[\"event_label\"] = label  # Adicionar rótulo de evento desejado ou não\n",
    "    return pd.concat(df_list, ignore_index=True)"
   ]
  },
  {
   "cell_type": "code",
   "execution_count": null,
   "id": "ddb3dde5-bae3-4494-af9a-d3af4b8098e4",
   "metadata": {},
   "outputs": [],
   "source": [
    "# Carregar os dados dos eventos\n",
    "desired_df = load_csv_files(desired_events_folder, label=1)  # Eventos desejados\n",
    "undesired_df = load_csv_files(undesired_events_folder, label=0)  # Eventos indesejados"
   ]
  },
  {
   "cell_type": "code",
   "execution_count": null,
   "id": "b4f20483-7cde-4365-b21d-0f71eb87cc24",
   "metadata": {},
   "outputs": [],
   "source": [
    "# Combinar os datasets em um único dataframe\n",
    "full_data = pd.concat([desired_df, undesired_df], ignore_index=True)"
   ]
  },
  {
   "cell_type": "code",
   "execution_count": null,
   "id": "fa09f471-7917-413a-863e-ecf3c4f30493",
   "metadata": {},
   "outputs": [],
   "source": [
    "# Selecionar todas as features do arquivo CSV\n",
    "lund_features = list(full_data.columns)\n",
    "lund_features.remove(\"event_label\")  # Remover a variável alvo"
   ]
  },
  {
   "cell_type": "code",
   "execution_count": null,
   "id": "011ce115-8eba-4891-b792-db102fb4fc1f",
   "metadata": {},
   "outputs": [],
   "source": [
    "X = full_data[lund_features]\n",
    "y = full_data[\"event_label\"]"
   ]
  },
  {
   "cell_type": "code",
   "execution_count": null,
   "id": "59308d30-3ce3-400b-afe2-55ca9c005713",
   "metadata": {},
   "outputs": [],
   "source": [
    "# Tratar valores ausentes\n",
    "X.replace('None', np.nan, inplace=True)  # Substituir 'None' por NaN\n",
    "X.fillna(X.mean(), inplace=True)"
   ]
  },
  {
   "cell_type": "code",
   "execution_count": null,
   "id": "e5ba9b1c-16b4-45b3-aad7-62ceb5aae833",
   "metadata": {},
   "outputs": [],
   "source": [
    "# Normalizar os dados\n",
    "scaler = StandardScaler()\n",
    "X_scaled = scaler.fit_transform(X)"
   ]
  },
  {
   "cell_type": "code",
   "execution_count": null,
   "id": "7d133fb0-7daa-41e8-97f5-7028acc03be7",
   "metadata": {},
   "outputs": [],
   "source": [
    "# Dividir treino e teste\n",
    "X_train, X_test, y_train, y_test = train_test_split(X_scaled, y, test_size=0.2, random_state=42)"
   ]
  },
  {
   "cell_type": "code",
   "execution_count": null,
   "id": "6d572f95-095e-408f-9775-9a816fd8969c",
   "metadata": {},
   "outputs": [],
   "source": [
    "# Configuração do modelo Binary Lund Tree\n",
    "model = BinaryLundTree(\n",
    "    num_layers=4,  # Número de camadas da GNN\n",
    "    hidden_dim=64,  # Tamanho dos vetores ocultos\n",
    "    learning_rate=0.001,  # Taxa de aprendizado\n",
    "    batch_size=128,  # Tamanho do lote\n",
    "    epochs=50  # Número de épocas\n",
    ")  # Ajuste de hiperparâmetros\n",
    "history = model.fit(X_train, y_train, validation_data=(X_test, y_test))"
   ]
  },
  {
   "cell_type": "code",
   "execution_count": null,
   "id": "ec31e06f-efb4-4c01-ba7f-774fd90ae045",
   "metadata": {},
   "outputs": [],
   "source": [
    "# Fazer previsões\n",
    "y_pred = model.predict(X_test)\n",
    "y_pred_prob = model.predict_proba(X_test)[:, 1]  # Probabilidade para ROC-AUC"
   ]
  },
  {
   "cell_type": "code",
   "execution_count": null,
   "id": "4dca70b7-d557-42b6-b6a3-0b76fbe70522",
   "metadata": {},
   "outputs": [],
   "source": [
    "# Avaliar desempenho\n",
    "accuracy = accuracy_score(y_test, y_pred)\n",
    "roc_auc = roc_auc_score(y_test, y_pred_prob)\n",
    "report = classification_report(y_test, y_pred)"
   ]
  },
  {
   "cell_type": "code",
   "execution_count": null,
   "id": "66d2b3a7-2969-4477-a487-31dc574621c4",
   "metadata": {},
   "outputs": [],
   "source": [
    "# Plotar a curva de perda (Loss) ao longo das épocas\n",
    "plt.figure(figsize=(8, 6))\n",
    "plt.plot(history.history['loss'], label='Treinamento', color='blue')\n",
    "plt.plot(history.history['val_loss'], label='Validação', color='red')\n",
    "plt.xlabel(\"Épocas\")\n",
    "plt.ylabel(\"Loss\")\n",
    "plt.title(\"Evolução da Perda ao Longo do Treinamento\")\n",
    "plt.legend()\n",
    "plt.grid()\n",
    "plt.show()\n",
    "\n",
    "print(f\"Acurácia do modelo: {accuracy:.4f}\")"
   ]
  },
  {
   "cell_type": "code",
   "execution_count": null,
   "id": "ef865983-0f17-4de1-a04d-b576be8f87a1",
   "metadata": {},
   "outputs": [],
   "source": [
    "# Calcular a curva ROC\n",
    "fpr, tpr, _ = roc_curve(y_test, y_pred_prob)\n",
    "\n",
    "# Plotar a curva ROC\n",
    "plt.figure(figsize=(8, 6))\n",
    "plt.plot(fpr, tpr, label=f\"AUC = {roc_auc:.4f}\", color='blue')\n",
    "plt.plot([0, 1], [0, 1], linestyle='--', color='gray')\n",
    "plt.xlabel(\"False Positive Rate\")\n",
    "plt.ylabel(\"True Positive Rate\")\n",
    "plt.title(\"Curva ROC\")\n",
    "plt.legend()\n",
    "plt.grid()\n",
    "plt.show()\n",
    "\n",
    "print(f\"ROC-AUC Score: {roc_auc:.4f}\")"
   ]
  },
  {
   "cell_type": "code",
   "execution_count": null,
   "id": "2f5c5f74-7f64-4dd7-b8be-33041d7585a4",
   "metadata": {},
   "outputs": [],
   "source": [
    "# Matriz de confusão\n",
    "conf_matrix = confusion_matrix(y_test, y_pred)\n",
    "plt.figure(figsize=(6, 6))\n",
    "sns.heatmap(conf_matrix, annot=True, fmt='d', cmap='Blues', xticklabels=[\"Negative\", \"Positive\"], yticklabels=[\"Negative\", \"Positive\"])\n",
    "plt.xlabel(\"Predito\")\n",
    "plt.ylabel(\"Real\")\n",
    "plt.title(\"Matriz de Confusão\")\n",
    "plt.show()"
   ]
  },
  {
   "cell_type": "code",
   "execution_count": null,
   "id": "1d9ec9b3-8c09-4d32-ac97-33e748e31c73",
   "metadata": {},
   "outputs": [],
   "source": [
    "# Calcular a curva Precision-Recall\n",
    "precision, recall, _ = precision_recall_curve(y_test, y_pred_prob)\n",
    "\n",
    "# Plotar a curva Precision-Recall\n",
    "plt.figure(figsize=(8, 6))\n",
    "plt.plot(recall, precision, label=f\"F1-score = {f1_score(y_test, y_pred):.4f}\", color='green')\n",
    "plt.xlabel(\"Recall\")\n",
    "plt.ylabel(\"Precision\")\n",
    "plt.title(\"Curva Precision-Recall\")\n",
    "plt.legend()\n",
    "plt.grid()\n",
    "plt.show()"
   ]
  },
  {
   "cell_type": "code",
   "execution_count": null,
   "id": "125d6201-79c4-4b10-ad45-18d440208fb3",
   "metadata": {},
   "outputs": [],
   "source": [
    "print(\"Relatório de Classificação:\\n\", report)"
   ]
  }
 ],
 "metadata": {
  "kernelspec": {
   "display_name": "Python 3 (ipykernel)",
   "language": "python",
   "name": "python3"
  },
  "language_info": {
   "codemirror_mode": {
    "name": "ipython",
    "version": 3
   },
   "file_extension": ".py",
   "mimetype": "text/x-python",
   "name": "python",
   "nbconvert_exporter": "python",
   "pygments_lexer": "ipython3",
   "version": "3.10.12"
  }
 },
 "nbformat": 4,
 "nbformat_minor": 5
}
