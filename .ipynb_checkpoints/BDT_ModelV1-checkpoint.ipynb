{
 "cells": [
  {
   "cell_type": "code",
   "execution_count": null,
   "id": "bfd1cacd-c3b8-406e-b2f8-28ccc4dd2320",
   "metadata": {},
   "outputs": [],
   "source": [
    "import pandas as pd\n",
    "import numpy as np\n",
    "import ast\n",
    "import torch\n",
    "import torch.nn as nn\n",
    "import torch.optim as optim\n",
    "from sklearn.metrics import accuracy_score, precision_score, recall_score, f1_score\n",
    "from torch.utils.data import SubsetRandomSampler\n",
    "from torch.utils.data import Dataset, DataLoader, SubsetRandomSampler\n",
    "from torch.utils.data import ConcatDataset\n",
    "import matplotlib.pyplot as plt"
   ]
  },
  {
   "cell_type": "code",
   "execution_count": null,
   "id": "6bfacd61-5987-4b7b-9942-8e8e78e62071",
   "metadata": {},
   "outputs": [],
   "source": [
    "file1_path = \"Z2JetsToNuNu/Z2JetsToNuNu1_PtZ-150To250.csv\"  \n",
    "file2_path = \"Z2JetsToNuNu_Negative/ZToNuNu_PtZ-150To250.csv\""
   ]
  },
  {
   "cell_type": "code",
   "execution_count": null,
   "id": "012666e1-d3af-42a5-8b23-c712e71b6404",
   "metadata": {},
   "outputs": [],
   "source": [
    "df1 = pd.read_csv(file1_path)\n",
    "df2 = pd.read_csv(file2_path)"
   ]
  },
  {
   "cell_type": "code",
   "execution_count": null,
   "id": "6a3f79c2-f087-4b51-a816-b3983642aebb",
   "metadata": {},
   "outputs": [],
   "source": [
    "df1"
   ]
  },
  {
   "cell_type": "code",
   "execution_count": null,
   "id": "47d35853-ac9a-4d4f-9f47-4c7a730efb16",
   "metadata": {},
   "outputs": [],
   "source": [
    "df2"
   ]
  },
  {
   "cell_type": "code",
   "execution_count": null,
   "id": "6406c633-d731-4616-81cf-cee33a0848db",
   "metadata": {},
   "outputs": [],
   "source": [
    "num_linhas_df1 = df1.shape[0]\n",
    "num_linhas_df2 = df2.shape[0]\n",
    "\n",
    "print(f\"Dataset 1 (df1) tem {num_linhas_df1} linhas.\")\n",
    "print(f\"Dataset 2 (df2) tem {num_linhas_df2} linhas.\")"
   ]
  },
  {
   "cell_type": "code",
   "execution_count": null,
   "id": "66fadfc7-ab75-4de7-862e-e26995817a2f",
   "metadata": {},
   "outputs": [],
   "source": [
    "def verificar_tipos(df):\n",
    "    return df.dtypes"
   ]
  },
  {
   "cell_type": "code",
   "execution_count": null,
   "id": "4599a059-bbeb-40f2-a5b7-f8eb14c762b0",
   "metadata": {},
   "outputs": [],
   "source": [
    "tipos_df1 = verificar_tipos(df1)\n",
    "tipos_df2 = verificar_tipos(df2)\n",
    "\n",
    "print(tipos_df1)\n",
    "print(tipos_df2)"
   ]
  },
  {
   "cell_type": "code",
   "execution_count": null,
   "id": "f81195e9-e782-40a9-9768-2616951e9091",
   "metadata": {},
   "outputs": [],
   "source": [
    "def clean_value(x):\n",
    "    # Se o valor for um Ellipsis (`...`), substituir por 0.0\n",
    "    if x is Ellipsis or x in [\"NaN\", \"...\", \"nan\"]:\n",
    "        return 0.0\n",
    "\n",
    "    if isinstance(x, str):\n",
    "        try:\n",
    "            # Verifica se a string representa uma lista (exemplo: \"[5.9]\")\n",
    "            if x.startswith(\"[\") and x.endswith(\"]\"):\n",
    "                x = ast.literal_eval(x)  # Converte a string para uma lista real\n",
    "                if isinstance(x, list):\n",
    "                    float_list = [float(i) for i in x if i is not Ellipsis]  # Ignorar `...`\n",
    "                    if len(float_list) == 0:\n",
    "                        return 0.0  # Se a lista for vazia, retorna 0.0\n",
    "                    return np.mean(float_list)  # Retorna a média da lista\n",
    "                else:\n",
    "                    raise ValueError(f\"String parece uma lista, mas não foi convertida corretamente: {x}\")\n",
    "            return float(x)  # Converte strings numéricas diretamente para float\n",
    "        except (ValueError, SyntaxError) as e:\n",
    "            raise ValueError(f\"Erro ao converter valor '{x}' para float ou lista: {e}\") \n",
    "\n",
    "    elif isinstance(x, (int, float)):\n",
    "        return float(x)  # Mantém números como float\n",
    "        \n",
    "    else:\n",
    "        raise TypeError(f\"Tipo inválido: {type(x)} encontrado, valor: {x}\") "
   ]
  },
  {
   "cell_type": "code",
   "execution_count": null,
   "id": "12e7b55c-2d7c-4ad4-be22-d295cf4b5f35",
   "metadata": {},
   "outputs": [],
   "source": [
    "def process_data(df):\n",
    "    for col in df.columns:\n",
    "        df[col] = df[col].apply(clean_value)  \n",
    "        df[col] = df[col].astype(np.float32)  \n",
    "    return df"
   ]
  },
  {
   "cell_type": "code",
   "execution_count": null,
   "id": "dacb1535-17c4-4ff4-9f9d-6997db80f7cb",
   "metadata": {},
   "outputs": [],
   "source": [
    "df1 = process_data(df1)\n",
    "df2 = process_data(df2)"
   ]
  },
  {
   "cell_type": "code",
   "execution_count": null,
   "id": "46b0dedc-9f6f-4e42-ba12-1ec2c06bc52a",
   "metadata": {},
   "outputs": [],
   "source": []
  },
  {
   "cell_type": "code",
   "execution_count": null,
   "id": "d0c4aa9d-ba5d-47e5-bfdf-7711f02916e2",
   "metadata": {},
   "outputs": [],
   "source": []
  }
 ],
 "metadata": {
  "kernelspec": {
   "display_name": "Python 3 (ipykernel)",
   "language": "python",
   "name": "python3"
  },
  "language_info": {
   "codemirror_mode": {
    "name": "ipython",
    "version": 3
   },
   "file_extension": ".py",
   "mimetype": "text/x-python",
   "name": "python",
   "nbconvert_exporter": "python",
   "pygments_lexer": "ipython3",
   "version": "3.10.12"
  }
 },
 "nbformat": 4,
 "nbformat_minor": 5
}
