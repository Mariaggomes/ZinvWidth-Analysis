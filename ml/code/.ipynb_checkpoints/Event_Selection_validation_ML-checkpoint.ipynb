{
 "cells": [
  {
   "cell_type": "code",
   "execution_count": 4,
   "id": "0647fb85-d8f7-457b-9af0-0a8ace92dc30",
   "metadata": {},
   "outputs": [],
   "source": [
    "import torch\n",
    "import torch.nn.functional as F\n",
    "from torch_geometric.nn import GCNConv, BatchNorm, global_mean_pool\n",
    "from torch_geometric.data import Data\n",
    "import pandas as pd\n",
    "import numpy as np\n",
    "import matplotlib.pyplot as plt"
   ]
  },
  {
   "cell_type": "code",
   "execution_count": 2,
   "id": "ace579c1-43d1-4af4-b578-7c60f69dab79",
   "metadata": {},
   "outputs": [],
   "source": [
    "# Define model\n",
    "class GNN(torch.nn.Module):\n",
    "    def __init__(self):\n",
    "        super(GNN, self).__init__()\n",
    "        self.conv1 = GCNConv(1, 16)\n",
    "        self.bn1 = BatchNorm(16)\n",
    "        self.conv2 = GCNConv(16, 32)\n",
    "        self.bn2 = BatchNorm(32)\n",
    "        self.conv3 = GCNConv(32, 64)\n",
    "        self.bn3 = BatchNorm(64)\n",
    "        self.conv4 = GCNConv(64, 16)\n",
    "        self.bn4 = BatchNorm(16)\n",
    "        self.dropout = torch.nn.Dropout(p=0.4)\n",
    "        self.fc = torch.nn.Linear(16, 2)\n",
    "\n",
    "    def forward(self, data):\n",
    "        x, edge_index = data.x, data.edge_index\n",
    "        x = self.dropout(F.relu(self.bn1(self.conv1(x, edge_index))))\n",
    "        x = self.dropout(F.relu(self.bn2(self.conv2(x, edge_index))))\n",
    "        x = self.dropout(F.relu(self.bn3(self.conv3(x, edge_index))))\n",
    "        x = self.dropout(F.relu(self.bn4(self.conv4(x, edge_index))))\n",
    "        x = global_mean_pool(x, data.batch) if hasattr(data, \"batch\") else x.mean(dim=0, keepdim=True)\n",
    "        return F.softmax(self.fc(x), dim=1)"
   ]
  },
  {
   "cell_type": "code",
   "execution_count": 3,
   "id": "9bdd7287-7870-4d5f-99da-a72327be6203",
   "metadata": {},
   "outputs": [
    {
     "data": {
      "text/plain": [
       "GNN(\n",
       "  (conv1): GCNConv(1, 16)\n",
       "  (bn1): BatchNorm(16, eps=1e-05, momentum=0.1, affine=True, track_running_stats=True)\n",
       "  (conv2): GCNConv(16, 32)\n",
       "  (bn2): BatchNorm(32, eps=1e-05, momentum=0.1, affine=True, track_running_stats=True)\n",
       "  (conv3): GCNConv(32, 64)\n",
       "  (bn3): BatchNorm(64, eps=1e-05, momentum=0.1, affine=True, track_running_stats=True)\n",
       "  (conv4): GCNConv(64, 16)\n",
       "  (bn4): BatchNorm(16, eps=1e-05, momentum=0.1, affine=True, track_running_stats=True)\n",
       "  (dropout): Dropout(p=0.4, inplace=False)\n",
       "  (fc): Linear(in_features=16, out_features=2, bias=True)\n",
       ")"
      ]
     },
     "execution_count": 3,
     "metadata": {},
     "output_type": "execute_result"
    }
   ],
   "source": [
    "# Load model \n",
    "model = torch.load(\"gnn_model.pt\", map_location=\"cpu\")\n",
    "model.eval()"
   ]
  },
  {
   "cell_type": "code",
   "execution_count": 4,
   "id": "bf11a311-46e9-4aed-beea-478ad859bc37",
   "metadata": {},
   "outputs": [],
   "source": [
    "# Load dataset\n",
    "df = pd.read_csv(\"../raw/Z2JetsToNuNu_PtZ-250To400.csv\")\n",
    "jet_columns = [\"lead_jet_pt\", \"lead_jet_eta\", \"lead_jet_phi\", \"lead_jet_mass\"]\n",
    "recoil_threshold = 200\n",
    "predictions = []"
   ]
  },
  {
   "cell_type": "code",
   "execution_count": 5,
   "id": "80eeed8c-02df-46cf-83d1-53d26e4f9742",
   "metadata": {},
   "outputs": [],
   "source": [
    "# Build graph for each event\n",
    "def build_graph_from_row(row):\n",
    "    try:\n",
    "        nodes = [float(row[col]) for col in jet_columns]\n",
    "        edges = [[i, i + 1] for i in range(len(nodes) - 1)]\n",
    "        x = torch.tensor(nodes, dtype=torch.float).view(-1, 1)\n",
    "        edge_index = torch.tensor(edges, dtype=torch.long).t().contiguous()\n",
    "        return Data(x=x, edge_index=edge_index)\n",
    "    except:\n",
    "        return None"
   ]
  },
  {
   "cell_type": "code",
   "execution_count": 6,
   "id": "6c2f1e27-f99a-424b-88fd-25b3dec0bbcc",
   "metadata": {},
   "outputs": [],
   "source": [
    "# Run prediction loop\n",
    "with torch.no_grad():\n",
    "    for _, row in df.iterrows():\n",
    "        data = build_graph_from_row(row)\n",
    "        if data is None:\n",
    "            predictions.append(np.nan)\n",
    "            continue\n",
    "        out = model(data)\n",
    "        pred_class = torch.argmax(out, dim=1).item()\n",
    "        predictions.append(pred_class)"
   ]
  },
  {
   "cell_type": "code",
   "execution_count": 7,
   "id": "fcca4c39-db88-4b10-9335-2b123cdb73ae",
   "metadata": {},
   "outputs": [],
   "source": [
    "# Add predictions to DataFrame\n",
    "df[\"gnn_prediction\"] = predictions"
   ]
  },
  {
   "cell_type": "code",
   "execution_count": 8,
   "id": "0f9ee7b9-14c0-4a40-a4b3-0188b4ae35c2",
   "metadata": {},
   "outputs": [],
   "source": [
    "# 1. Class 1 predictions that passed the recoil cut\n",
    "df_class1_passed = df[\n",
    "    (df[\"gnn_prediction\"] == 1) &\n",
    "    (df[\"recoil_magnitude_u\"] > recoil_threshold)\n",
    "]"
   ]
  },
  {
   "cell_type": "code",
   "execution_count": 9,
   "id": "7a48f0a8-21d5-4aea-8e3a-52ecd0a4cd9d",
   "metadata": {},
   "outputs": [],
   "source": [
    "# 2. Class 0 predictions and class 1 that FAILED the recoil cut\n",
    "df_class0 = df[\n",
    "    (df[\"gnn_prediction\"] == 0) |\n",
    "    ((df[\"gnn_prediction\"] == 1) & (df[\"recoil_magnitude_u\"] <= recoil_threshold))\n",
    "].copy()"
   ]
  },
  {
   "cell_type": "code",
   "execution_count": 10,
   "id": "335bd29a-28ac-44f8-be2a-4909594573b7",
   "metadata": {},
   "outputs": [],
   "source": [
    "# Reassign those that failed the cut as class 0\n",
    "df_class0.loc[df_class0[\"gnn_prediction\"] == 1, \"gnn_prediction\"] = 0"
   ]
  },
  {
   "cell_type": "code",
   "execution_count": 11,
   "id": "565b31a9-3ab0-4129-bf7d-259fcdcd7e53",
   "metadata": {},
   "outputs": [],
   "source": [
    "# Save both groups\n",
    "df_class1_passed.to_csv(\"../test_data/Z2JetsToNuNu_class1.csv\", index=False)\n",
    "df_class0.to_csv(\"../test_data/Z2JetsToNuNu_class0.csv\", index=False)"
   ]
  },
  {
   "cell_type": "code",
   "execution_count": 14,
   "id": "b3117652-f026-431c-9bc3-00e0cdaa3311",
   "metadata": {},
   "outputs": [
    {
     "name": "stdout",
     "output_type": "stream",
     "text": [
      "Events in class 1: 178938\n",
      "Events in class 0: 82515\n"
     ]
    }
   ],
   "source": [
    "print(\"Events in class 1:\", len(df_class1_passed))\n",
    "print(\"Events in class 0:\", len(df_class0))"
   ]
  },
  {
   "cell_type": "code",
   "execution_count": null,
   "id": "71b78bc7-7a9b-4961-bfd7-05733e05ce18",
   "metadata": {},
   "outputs": [],
   "source": []
  }
 ],
 "metadata": {
  "kernelspec": {
   "display_name": "Python 3 (ipykernel)",
   "language": "python",
   "name": "python3"
  },
  "language_info": {
   "codemirror_mode": {
    "name": "ipython",
    "version": 3
   },
   "file_extension": ".py",
   "mimetype": "text/x-python",
   "name": "python",
   "nbconvert_exporter": "python",
   "pygments_lexer": "ipython3",
   "version": "3.10.12"
  }
 },
 "nbformat": 4,
 "nbformat_minor": 5
}
